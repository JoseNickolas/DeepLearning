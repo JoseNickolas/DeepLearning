{
 "cells": [
  {
   "cell_type": "code",
   "execution_count": 2,
   "metadata": {},
   "outputs": [
    {
     "data": {
      "text/plain": [
       "'1.11.0'"
      ]
     },
     "execution_count": 2,
     "metadata": {},
     "output_type": "execute_result"
    }
   ],
   "source": [
    "from datetime import datetime\n",
    "from pathlib import Path\n",
    "\n",
    "import numpy as np\n",
    "import torch\n",
    "import torch.nn as nn\n",
    "import torch.nn.functional as F\n",
    "from sklearn.decomposition import PCA\n",
    "from torch.utils.data import DataLoader\n",
    "from tqdm import tqdm, trange\n",
    "import pandas as pd\n",
    "\n",
    "from mimic import Mimic3, coallate\n",
    "from model import PatientSimiEval\n",
    "from siamese_cnn import SiameseCNN\n",
    "from utils import find_nearest\n",
    "from word2vec import SkipGramDataset, Word2Vec\n",
    "\n",
    "# DATASET_PATH = '/content/drive/MyDrive/mimic3/'\n",
    "# MODEL_PATH = '/content/drive/MyDrive/mimic3/saved_models/'\n",
    "MODEL_PATH = './Models/'\n",
    "DATASET_PATH = './Dataset/'\n",
    "DEVICE = 'cuda' if torch.cuda.is_available() else 'cpu'\n",
    "\n",
    "torch.__version__"
   ]
  },
  {
   "cell_type": "code",
   "execution_count": 4,
   "metadata": {},
   "outputs": [],
   "source": [
    "# load a trained PSE model\n",
    "\n",
    "pse = {\n",
    "    'name': 'pse_20220505-154958',\n",
    "    'version': 'pse_epoch499'\n",
    "}\n",
    "\n",
    "pse_path = Path(MODEL_PATH) / pse['name'] / pse['version']\n",
    "pse_model = torch.load(pse_path)"
   ]
  },
  {
   "cell_type": "code",
   "execution_count": null,
   "metadata": {},
   "outputs": [],
   "source": [
    "# create the main dataset of medical concept sequences (preprocessing) \n",
    "\n",
    "dataset = Mimic3(DATASET_PATH,\n",
    "                    apply_vocab=True,\n",
    "                    to_tensor=False)\n",
    "\n",
    "data_loader = DataLoader(dataset, \n",
    "                        batch_size=128,\n",
    "                        collate_fn=coallate,\n",
    "                        shuffle=False)"
   ]
  },
  {
   "cell_type": "markdown",
   "metadata": {},
   "source": [
    "### Baselines"
   ]
  },
  {
   "cell_type": "code",
   "execution_count": 6,
   "metadata": {},
   "outputs": [
    {
     "name": "stderr",
     "output_type": "stream",
     "text": [
      "100%|██████████| 185/185 [01:46<00:00,  1.74it/s]\n"
     ]
    }
   ],
   "source": [
    "\"\"\" BASELINES \"\"\"\n",
    "\n",
    "# PSE\n",
    "reprs_pse = np.vstack([\n",
    "    pse_model(codes).detach().cpu().numpy() \n",
    "    for codes, _ in tqdm(data_loader)\n",
    "    ])\n",
    "\n",
    "nearest_pse = find_nearest(reprs_pse, metric='cosine')\n",
    "\n",
    "    \n",
    "# PCA: pca of one-hode encoded codes\n",
    "codes_onehot = np.zeros((len(dataset), dataset.num_codes()), dtype=bool)\n",
    "for i, (codes, _) in enumerate(dataset):\n",
    "    codes_onehot[i, codes] = 1    \n",
    "    \n",
    "out_dim = pse_model.scnn.linear.out_features # 30 \\\n",
    "pca = PCA(n_components=out_dim) #  cohorts\n",
    "reprs_pca = pca.fit_transform(codes_onehot) # (N, out_dim)\n",
    "nearest_pca = find_nearest(reprs_pca, metric='euclidean')\n",
    "\n",
    "\n",
    "# Hamming distance:\n",
    "reprs_hamming = codes_onehot\n",
    "nearest_hamming = find_nearest(reprs_hamming, metric='hamming')"
   ]
  },
  {
   "cell_type": "markdown",
   "metadata": {},
   "source": [
    "### HRR & IRDM\n",
    "The Hospital Readmission Rate (HRR)   \n",
    "Incidence Rate Difference for Mortality (IRDM)\n"
   ]
  },
  {
   "cell_type": "code",
   "execution_count": 12,
   "metadata": {},
   "outputs": [],
   "source": [
    "# The Hospital Readmission Rate (HRR)\n",
    "nadmin = dataset.info['NADMISSIONS'].to_numpy()\n",
    "def hospital_readmin_rate(nearest):\n",
    "    return (((nadmin[nearest] == 1) & (nadmin == 1)) | ((nadmin[nearest] > 1) & (nadmin > 1))).mean()\n",
    "\n",
    "\n",
    "# Incidence Rate Difference for Mortality (IRDM)\n",
    "dischtime = dataset.info['DISCHTIME']\n",
    "deathtime = dataset.info['DEATHTIME']\n",
    "deathtime = pd.to_datetime(deathtime.apply(lambda x: x[0] if isinstance(x, pd.arrays.DatetimeArray) else x))\n",
    "\n",
    "\n",
    "def incidence_rate(dischtime, deathtime):\n",
    "    death_ct = (~deathtime.isna()).sum()\n",
    "    diff = (deathtime.fillna(datetime(2022, 1, 1)) - dischtime).dt.days\n",
    "    return death_ct / diff.sum()\n",
    "\n",
    "\n",
    "def inc_rate_mortality(nearest):\n",
    "    ir_p = incidence_rate(dischtime, deathtime)\n",
    "    ir_sp = incidence_rate(dischtime.iloc[nearest], deathtime.iloc[nearest])\n",
    "    return np.abs(ir_p - ir_sp)"
   ]
  },
  {
   "cell_type": "code",
   "execution_count": 13,
   "metadata": {},
   "outputs": [],
   "source": [
    "methods = {\n",
    "    \"PSE\": nearest_pse,\n",
    "    \"PCA\": nearest_pca,\n",
    "    \"Hamming\": nearest_hamming\n",
    "}\n",
    "\n",
    "\n",
    "irdm = {}\n",
    "hrr = {}\n",
    "for name, nearest in methods.items():\n",
    "    irdm[name] = inc_rate_mortality(nearest)\n",
    "    hrr[name] = hospital_readmin_rate(nearest)"
   ]
  },
  {
   "cell_type": "code",
   "execution_count": 26,
   "metadata": {},
   "outputs": [
    {
     "data": {
      "text/plain": [
       "{'PSE': 0.745236175359674,\n",
       " 'PCA': 0.9491575775580359,\n",
       " 'Hamming': 0.9287442176293341}"
      ]
     },
     "execution_count": 26,
     "metadata": {},
     "output_type": "execute_result"
    }
   ],
   "source": [
    "hrr"
   ]
  },
  {
   "cell_type": "code",
   "execution_count": 25,
   "metadata": {},
   "outputs": [
    {
     "data": {
      "text/plain": [
       "{'PSE': 4.418157087202884e-06,\n",
       " 'PCA': 6.288749485720541e-08,\n",
       " 'Hamming': 1.4706780777652385e-07}"
      ]
     },
     "execution_count": 25,
     "metadata": {},
     "output_type": "execute_result"
    }
   ],
   "source": [
    "irdm"
   ]
  },
  {
   "cell_type": "markdown",
   "metadata": {},
   "source": [
    "### Disease Cohort Classification\n"
   ]
  },
  {
   "cell_type": "code",
   "execution_count": null,
   "metadata": {},
   "outputs": [],
   "source": [
    "from sklearn.preprocessing import MultiLabelBinarizer\n",
    "from sklearn.neural_network import MLPClassifier\n",
    "from sklearn.model_selection import KFold\n",
    "from sklearn.metrics import roc_auc_score\n",
    "\n",
    "labels = dataset.labels\n",
    "\n",
    "mlb = MultiLabelBinarizer()\n",
    "y = mlb.fit_transform(labels)\n",
    "\n",
    "methods = {\n",
    "    \"PSE\": reprs_pse,\n",
    "    \"PCA\": reprs_pca,\n",
    "}\n",
    "\n",
    "method_acc = {}\n",
    "method_auc = {}\n",
    "\n",
    "for name, x in methods.items():\n",
    "\n",
    "    kf = KFold(n_splits=10)\n",
    "    score = []\n",
    "    auc = []\n",
    "    for train_index, test_index in tqdm(kf.split(x)):\n",
    "        x_train, x_test = x[train_index], x[test_index]\n",
    "        y_train, y_test = y[train_index], y[test_index]\n",
    "\n",
    "        clf = MLPClassifier().fit(x_train, y_train)\n",
    "        # y_hat  = clf.predict(x_test)\n",
    "        y_hat_prob = clf.predict_proba(x_test)\n",
    "        auc.append(roc_auc_score(y_test, y_hat_prob))\n",
    "        score.append(clf.score(x_test, y_test)) # provides mean accuracy\n",
    "\n",
    "    method_acc[name] = score\n",
    "    method_auc[name] = auc\n"
   ]
  },
  {
   "cell_type": "code",
   "execution_count": 30,
   "metadata": {},
   "outputs": [
    {
     "name": "stdout",
     "output_type": "stream",
     "text": [
      "Accuracy:\n",
      "PSE: 0.07 +- 0.03\n",
      "PCA: 0.53 +- 0.01\n"
     ]
    }
   ],
   "source": [
    "print('Accuracy:')\n",
    "for name, acc in method_acc.items():\n",
    "    print(f'{name}: {np.mean(acc):.2f} +- {np.std(acc):.2f}')"
   ]
  },
  {
   "cell_type": "code",
   "execution_count": 31,
   "metadata": {},
   "outputs": [
    {
     "name": "stdout",
     "output_type": "stream",
     "text": [
      "AUC\n",
      "PSE: 0.59 +- 0.03\n",
      "PCA: 0.94 +- 0.00\n"
     ]
    }
   ],
   "source": [
    "print('AUC')\n",
    "for name, acc in method_auc.items():\n",
    "    print(f'{name}: {np.mean(acc):.2f} +- {np.std(acc):.2f}')"
   ]
  }
 ],
 "metadata": {
  "interpreter": {
   "hash": "8d68d4f7ab3c3d8a5ae5446e9a1c719390ca74cd3e3c67ebe526850ac8f5246e"
  },
  "kernelspec": {
   "display_name": "Python 3.10.4 ('torch2')",
   "language": "python",
   "name": "python3"
  },
  "language_info": {
   "codemirror_mode": {
    "name": "ipython",
    "version": 3
   },
   "file_extension": ".py",
   "mimetype": "text/x-python",
   "name": "python",
   "nbconvert_exporter": "python",
   "pygments_lexer": "ipython3",
   "version": "3.10.4"
  },
  "orig_nbformat": 4
 },
 "nbformat": 4,
 "nbformat_minor": 2
}
